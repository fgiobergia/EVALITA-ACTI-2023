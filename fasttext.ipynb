{
 "cells": [
  {
   "cell_type": "code",
   "execution_count": 242,
   "id": "5e186383-f304-4ed4-8f0d-00ff670c8c0c",
   "metadata": {},
   "outputs": [],
   "source": []
  },
  {
   "cell_type": "code",
   "execution_count": 243,
   "id": "bd470323-f76e-4871-a312-ce94d4176041",
   "metadata": {},
   "outputs": [
    {
     "data": {
      "text/plain": [
       "array([0.22903357, 0.30966522, 0.41291708, 0.04052038, 0.        ,\n",
       "       0.        ])"
      ]
     },
     "execution_count": 243,
     "metadata": {},
     "output_type": "execute_result"
    }
   ],
   "source": [
    "get_vec(\"covid\", vocabs, mat)"
   ]
  },
  {
   "cell_type": "code",
   "execution_count": 213,
   "id": "ec6d2e85-f276-4048-8de2-853e28f3dd3b",
   "metadata": {},
   "outputs": [],
   "source": [
    "arr_mat = np.array(mat.todense())"
   ]
  },
  {
   "cell_type": "code",
   "execution_count": 232,
   "id": "ec858b99-44bf-4ee1-afb9-245395be00de",
   "metadata": {},
   "outputs": [
    {
     "data": {
      "text/plain": [
       "array([0.01749202, 0.06925445, 0.15293997, 0.        ])"
      ]
     },
     "execution_count": 232,
     "metadata": {},
     "output_type": "execute_result"
    }
   ],
   "source": [
    "arr_mat[:, tfidf.vocabulary_[\"guerra\"]]"
   ]
  },
  {
   "cell_type": "code",
   "execution_count": 184,
   "id": "e4109303-ce60-4b3a-8fd9-af114661fc94",
   "metadata": {},
   "outputs": [
    {
     "data": {
      "text/plain": [
       "array([['morti', 'obbligo', 'dati', 'cov', 'sars', 'dott', 'virus',\n",
       "        'dosi', 'dose', '2', 'vax', 'pandemia', 'salute', 'pfizer',\n",
       "        'vaccinazione', 'mrna', 'sieri', 'green', 'pass', 'vaccinati',\n",
       "        '__', '19', 'vaccini', 'vaccino', 'covid'],\n",
       "       ['potere', 'paesi', 'gregg', 'media', 'guerra', 'bambini',\n",
       "        'hillary', 'draghi', 'presidente', 'elon', 'casa', 'democratici',\n",
       "        'ucraina', 'twitter', 'putin', 'dittatura', 'fbi', 'russia',\n",
       "        'italia', 'elettorale', 'biden', 'clinton', 'elezioni', 'q',\n",
       "        'trump'],\n",
       "       ['kiev', 'donetsk', 'poroshenko', 'uniti', 'russa', 'video',\n",
       "        'militari', 'ucraine', 'gas', 'putin', 'militare', 'esercito',\n",
       "        'azov', 'zelensky', 'donbass', 'ucraino', 'russi', 'nato',\n",
       "        'civili', 'guerra', 'russo', 'nazisti', 'ucraini', 'russia',\n",
       "        'ucraina'],\n",
       "       ['disco', 'antartide', 'oblo', 'sferica', 'apollo', 'palloni',\n",
       "        'mappa', 'vedete', 'dato', 'bassa', 'piatto', 'video',\n",
       "        'satelliti', 'piatta', 'km', 'spazio', 'quota', 'terrestre',\n",
       "        'luna', 'foto', 'sole', 'globo', 'nasa', 'orbita', 'terra']],\n",
       "      dtype='<U36')"
      ]
     },
     "execution_count": 184,
     "metadata": {},
     "output_type": "execute_result"
    }
   ],
   "source": [
    "vocabs[np.array(mat.todense()).argsort(axis=1)[:, -25:]]"
   ]
  },
  {
   "cell_type": "code",
   "execution_count": null,
   "id": "2a5d0d95-4ed3-444b-8ddd-a8def1b0379a",
   "metadata": {},
   "outputs": [],
   "source": [
    "\"covid\""
   ]
  },
  {
   "cell_type": "code",
   "execution_count": 113,
   "id": "f77ec599-b1d3-4656-8728-0502fe20dd98",
   "metadata": {},
   "outputs": [],
   "source": []
  },
  {
   "cell_type": "code",
   "execution_count": 114,
   "id": "e2582043-d8f6-43b9-9b1c-677050f12f5f",
   "metadata": {},
   "outputs": [
    {
     "data": {
      "text/plain": [
       "array(['0', '00', '000', ..., 'zoster', 'zuckerberg', 'μm'], dtype='<U36')"
      ]
     },
     "execution_count": 114,
     "metadata": {},
     "output_type": "execute_result"
    }
   ],
   "source": [
    "vocabs"
   ]
  },
  {
   "cell_type": "code",
   "execution_count": 115,
   "id": "98ba2abc-9d8e-46ae-855c-606b5a58a4d6",
   "metadata": {},
   "outputs": [
    {
     "data": {
      "text/plain": [
       "9818"
      ]
     },
     "execution_count": 115,
     "metadata": {},
     "output_type": "execute_result"
    }
   ],
   "source": [
    "len(vocabs)"
   ]
  },
  {
   "cell_type": "code",
   "execution_count": 119,
   "id": "3a0e66b0-410f-4633-a2a9-7b0410bb8050",
   "metadata": {},
   "outputs": [
    {
     "data": {
      "text/plain": [
       "array(['salute', 'siero', 'paesi', 'virus', '2022', 'usa', 'pfizer', '1',\n",
       "       'medici', 'condividi', 'foto', 'devono', 'mondiale', 'effetti',\n",
       "       'vaccinazione', 'draghi', 'vaccinale', 'possono', 'pandemia', 'q',\n",
       "       '3', 'liberta', 'dott', 'biden', 'dati', 'guerra', 'obbligo',\n",
       "       'bambini', 'russia', 'governo', 'morti', 'sistema', 'sieri',\n",
       "       'verita', 'vax', 'ucraina', '__', '2', 'terra', 'vaccinati',\n",
       "       'italia', 'video', 'green', '19', 'trump', 'pass', 'dittatura',\n",
       "       'vaccini', 'vaccino', 'covid'], dtype='<U36')"
      ]
     },
     "execution_count": 119,
     "metadata": {},
     "output_type": "execute_result"
    }
   ],
   "source": [
    "vocabs[np.array(mat.sum(axis=0)).flatten().argsort()][-50:]"
   ]
  },
  {
   "cell_type": "code",
   "execution_count": 116,
   "id": "64322fb9-3197-4131-9f39-daae3156e752",
   "metadata": {},
   "outputs": [
    {
     "data": {
      "text/plain": [
       "array(['salute', 'siero', 'paesi', 'virus', '2022', 'usa', 'pfizer', '1',\n",
       "       'medici', 'condividi', 'foto', 'devono', 'mondiale', 'effetti',\n",
       "       'vaccinazione', 'draghi', 'vaccinale', 'possono', 'pandemia', 'q',\n",
       "       '3', 'liberta', 'dott', 'biden', 'dati', 'guerra', 'obbligo',\n",
       "       'bambini', 'russia', 'governo', 'morti', 'sistema', 'sieri',\n",
       "       'verita', 'vax', 'ucraina', '__', '2', 'terra', 'vaccinati',\n",
       "       'italia', 'video', 'green', '19', 'trump', 'pass', 'dittatura',\n",
       "       'vaccini', 'vaccino', 'covid'], dtype='<U36')"
      ]
     },
     "execution_count": 116,
     "metadata": {},
     "output_type": "execute_result"
    }
   ],
   "source": [
    "vocabs[np.array(mat.max(axis=0)).flatten().argsort()][-50:]"
   ]
  },
  {
   "cell_type": "code",
   "execution_count": 104,
   "id": "56870c04-21d1-4549-8970-a9cef640388d",
   "metadata": {},
   "outputs": [],
   "source": [
    "relevant_A = vocabs[np.array(mat.sum(axis=0)).flatten() > 1e-2]"
   ]
  },
  {
   "cell_type": "code",
   "execution_count": 87,
   "id": "3f46b914-7f86-4c74-8edd-a6775b1a9e8c",
   "metadata": {},
   "outputs": [],
   "source": [
    "relevant_B = vocabs[np.array(mat.sum(axis=0)).flatten() > 1e-2]"
   ]
  },
  {
   "cell_type": "code",
   "execution_count": 91,
   "id": "0cc4cbc1-d15b-49a5-be88-a4c9a9915a56",
   "metadata": {},
   "outputs": [
    {
     "data": {
      "text/plain": [
       "4043"
      ]
     },
     "execution_count": 91,
     "metadata": {},
     "output_type": "execute_result"
    }
   ],
   "source": [
    "len(set(relevant_A) | set(relevant_B))"
   ]
  },
  {
   "cell_type": "code",
   "execution_count": 120,
   "id": "2fa7792d-5d32-4214-a172-8d0d90aa712a",
   "metadata": {},
   "outputs": [],
   "source": [
    "X = mat.todense()"
   ]
  },
  {
   "cell_type": "code",
   "execution_count": 168,
   "id": "0bf11608-346c-448e-9439-90d0b3faa2f9",
   "metadata": {},
   "outputs": [],
   "source": [
    "from sklearn.linear_model import LogisticRegression\n",
    "lr = LogisticRegression()\n",
    "from sklearn.model_selection import train_test_split\n",
    "\n",
    "X_pca = PCA(64).fit_transform(np.array(X))\n",
    "\n",
    "X_train, X_test, y_train, y_test= train_test_split(X_pca, df.conspiracy, train_size=.8, stratify= df.conspiracy)"
   ]
  },
  {
   "cell_type": "code",
   "execution_count": 169,
   "id": "49c98585-f774-410e-911d-1b9143f0ff22",
   "metadata": {},
   "outputs": [
    {
     "data": {
      "text/html": [
       "<style>#sk-container-id-12 {color: black;background-color: white;}#sk-container-id-12 pre{padding: 0;}#sk-container-id-12 div.sk-toggleable {background-color: white;}#sk-container-id-12 label.sk-toggleable__label {cursor: pointer;display: block;width: 100%;margin-bottom: 0;padding: 0.3em;box-sizing: border-box;text-align: center;}#sk-container-id-12 label.sk-toggleable__label-arrow:before {content: \"▸\";float: left;margin-right: 0.25em;color: #696969;}#sk-container-id-12 label.sk-toggleable__label-arrow:hover:before {color: black;}#sk-container-id-12 div.sk-estimator:hover label.sk-toggleable__label-arrow:before {color: black;}#sk-container-id-12 div.sk-toggleable__content {max-height: 0;max-width: 0;overflow: hidden;text-align: left;background-color: #f0f8ff;}#sk-container-id-12 div.sk-toggleable__content pre {margin: 0.2em;color: black;border-radius: 0.25em;background-color: #f0f8ff;}#sk-container-id-12 input.sk-toggleable__control:checked~div.sk-toggleable__content {max-height: 200px;max-width: 100%;overflow: auto;}#sk-container-id-12 input.sk-toggleable__control:checked~label.sk-toggleable__label-arrow:before {content: \"▾\";}#sk-container-id-12 div.sk-estimator input.sk-toggleable__control:checked~label.sk-toggleable__label {background-color: #d4ebff;}#sk-container-id-12 div.sk-label input.sk-toggleable__control:checked~label.sk-toggleable__label {background-color: #d4ebff;}#sk-container-id-12 input.sk-hidden--visually {border: 0;clip: rect(1px 1px 1px 1px);clip: rect(1px, 1px, 1px, 1px);height: 1px;margin: -1px;overflow: hidden;padding: 0;position: absolute;width: 1px;}#sk-container-id-12 div.sk-estimator {font-family: monospace;background-color: #f0f8ff;border: 1px dotted black;border-radius: 0.25em;box-sizing: border-box;margin-bottom: 0.5em;}#sk-container-id-12 div.sk-estimator:hover {background-color: #d4ebff;}#sk-container-id-12 div.sk-parallel-item::after {content: \"\";width: 100%;border-bottom: 1px solid gray;flex-grow: 1;}#sk-container-id-12 div.sk-label:hover label.sk-toggleable__label {background-color: #d4ebff;}#sk-container-id-12 div.sk-serial::before {content: \"\";position: absolute;border-left: 1px solid gray;box-sizing: border-box;top: 0;bottom: 0;left: 50%;z-index: 0;}#sk-container-id-12 div.sk-serial {display: flex;flex-direction: column;align-items: center;background-color: white;padding-right: 0.2em;padding-left: 0.2em;position: relative;}#sk-container-id-12 div.sk-item {position: relative;z-index: 1;}#sk-container-id-12 div.sk-parallel {display: flex;align-items: stretch;justify-content: center;background-color: white;position: relative;}#sk-container-id-12 div.sk-item::before, #sk-container-id-12 div.sk-parallel-item::before {content: \"\";position: absolute;border-left: 1px solid gray;box-sizing: border-box;top: 0;bottom: 0;left: 50%;z-index: -1;}#sk-container-id-12 div.sk-parallel-item {display: flex;flex-direction: column;z-index: 1;position: relative;background-color: white;}#sk-container-id-12 div.sk-parallel-item:first-child::after {align-self: flex-end;width: 50%;}#sk-container-id-12 div.sk-parallel-item:last-child::after {align-self: flex-start;width: 50%;}#sk-container-id-12 div.sk-parallel-item:only-child::after {width: 0;}#sk-container-id-12 div.sk-dashed-wrapped {border: 1px dashed gray;margin: 0 0.4em 0.5em 0.4em;box-sizing: border-box;padding-bottom: 0.4em;background-color: white;}#sk-container-id-12 div.sk-label label {font-family: monospace;font-weight: bold;display: inline-block;line-height: 1.2em;}#sk-container-id-12 div.sk-label-container {text-align: center;}#sk-container-id-12 div.sk-container {/* jupyter's `normalize.less` sets `[hidden] { display: none; }` but bootstrap.min.css set `[hidden] { display: none !important; }` so we also need the `!important` here to be able to override the default hidden behavior on the sphinx rendered scikit-learn.org. See: https://github.com/scikit-learn/scikit-learn/issues/21755 */display: inline-block !important;position: relative;}#sk-container-id-12 div.sk-text-repr-fallback {display: none;}</style><div id=\"sk-container-id-12\" class=\"sk-top-container\"><div class=\"sk-text-repr-fallback\"><pre>LogisticRegression()</pre><b>In a Jupyter environment, please rerun this cell to show the HTML representation or trust the notebook. <br />On GitHub, the HTML representation is unable to render, please try loading this page with nbviewer.org.</b></div><div class=\"sk-container\" hidden><div class=\"sk-item\"><div class=\"sk-estimator sk-toggleable\"><input class=\"sk-toggleable__control sk-hidden--visually\" id=\"sk-estimator-id-12\" type=\"checkbox\" checked><label for=\"sk-estimator-id-12\" class=\"sk-toggleable__label sk-toggleable__label-arrow\">LogisticRegression</label><div class=\"sk-toggleable__content\"><pre>LogisticRegression()</pre></div></div></div></div></div>"
      ],
      "text/plain": [
       "LogisticRegression()"
      ]
     },
     "execution_count": 169,
     "metadata": {},
     "output_type": "execute_result"
    }
   ],
   "source": [
    "lr.fit(X_train, y_train)"
   ]
  },
  {
   "cell_type": "code",
   "execution_count": 170,
   "id": "976bb6d5-730c-4d26-832b-1243f3a6afa2",
   "metadata": {},
   "outputs": [],
   "source": [
    "from sklearn.decomposition import PCA"
   ]
  },
  {
   "cell_type": "code",
   "execution_count": 171,
   "id": "730161e2-4e00-4543-83ec-79ff9b2216ae",
   "metadata": {},
   "outputs": [
    {
     "name": "stdout",
     "output_type": "stream",
     "text": [
      "              precision    recall  f1-score   support\n",
      "\n",
      "           0       0.67      1.00      0.80        87\n",
      "           1       0.89      0.49      0.63        49\n",
      "           2       1.00      0.18      0.31        11\n",
      "           3       1.00      0.20      0.33        15\n",
      "\n",
      "    accuracy                           0.72       162\n",
      "   macro avg       0.89      0.47      0.52       162\n",
      "weighted avg       0.79      0.72      0.67       162\n",
      "\n"
     ]
    }
   ],
   "source": [
    "from sklearn.metrics import classification_report\n",
    "print(classification_report(y_test, lr.predict(X_test)))"
   ]
  },
  {
   "cell_type": "code",
   "execution_count": 62,
   "id": "4a4423d0-bb88-4515-a3f1-c97a4a42ac5f",
   "metadata": {},
   "outputs": [
    {
     "data": {
      "text/plain": [
       "array(['ue', 'dose', 'putin', 'dittatura', 'europa', 'biden', 'foto',\n",
       "       'paesi', 'media', 'verita', '2022', 'draghi', 'pazienti', 'green',\n",
       "       'rischio', 'sieri', 'virus', 'legge', 'euro', 'sistema',\n",
       "       'presidente', 'mrna', 'notizia', 'pass', 'checking', '10', 'dati',\n",
       "       'casi', '21', 'studio', 'vaccinazione', 'articolo', 'bambini',\n",
       "       'guerra', 'video', 'cov', 'sars', 'sito', 'trump', 'leggi',\n",
       "       'vaccinati', 'russia', 'ucraina', 'governo', 'vaccini', 'vaccino',\n",
       "       'italia', '__', '19', 'covid'], dtype='<U86')"
      ]
     },
     "execution_count": 62,
     "metadata": {},
     "output_type": "execute_result"
    }
   ],
   "source": [
    "vocabs[np.array(mat.sum(axis=0)).flatten().argsort()[-50:]]"
   ]
  },
  {
   "cell_type": "code",
   "execution_count": 66,
   "id": "1b4e9e75-192a-4b1e-bf96-4b0c01a3c466",
   "metadata": {},
   "outputs": [
    {
     "data": {
      "text/plain": [
       "(array([1.2435e+04, 7.8800e+02, 2.7100e+02, 1.2300e+02, 6.9000e+01,\n",
       "        3.0000e+01, 2.6000e+01, 1.9000e+01, 1.6000e+01, 7.0000e+00,\n",
       "        7.0000e+00, 3.0000e+00, 2.0000e+00, 3.0000e+00, 3.0000e+00,\n",
       "        1.0000e+00, 1.0000e+00, 2.0000e+00, 1.0000e+00, 0.0000e+00,\n",
       "        2.0000e+00, 0.0000e+00, 1.0000e+00, 0.0000e+00, 1.0000e+00,\n",
       "        0.0000e+00, 1.0000e+00, 0.0000e+00, 0.0000e+00, 1.0000e+00,\n",
       "        0.0000e+00, 0.0000e+00, 1.0000e+00, 0.0000e+00, 0.0000e+00,\n",
       "        0.0000e+00, 1.0000e+00, 0.0000e+00, 0.0000e+00, 0.0000e+00,\n",
       "        0.0000e+00, 0.0000e+00, 0.0000e+00, 0.0000e+00, 0.0000e+00,\n",
       "        0.0000e+00, 0.0000e+00, 0.0000e+00, 0.0000e+00, 1.0000e+00]),\n",
       " array([0.00220638, 0.01329034, 0.02437431, 0.03545827, 0.04654223,\n",
       "        0.05762619, 0.06871015, 0.07979412, 0.09087808, 0.10196204,\n",
       "        0.113046  , 0.12412997, 0.13521393, 0.14629789, 0.15738185,\n",
       "        0.16846582, 0.17954978, 0.19063374, 0.2017177 , 0.21280167,\n",
       "        0.22388563, 0.23496959, 0.24605355, 0.25713751, 0.26822148,\n",
       "        0.27930544, 0.2903894 , 0.30147336, 0.31255733, 0.32364129,\n",
       "        0.33472525, 0.34580921, 0.35689318, 0.36797714, 0.3790611 ,\n",
       "        0.39014506, 0.40122903, 0.41231299, 0.42339695, 0.43448091,\n",
       "        0.44556488, 0.45664884, 0.4677328 , 0.47881676, 0.48990072,\n",
       "        0.50098469, 0.51206865, 0.52315261, 0.53423657, 0.54532054,\n",
       "        0.5564045 ]),\n",
       " <BarContainer object of 50 artists>)"
      ]
     },
     "execution_count": 66,
     "metadata": {},
     "output_type": "execute_result"
    },
    {
     "data": {
      "image/png": "[encoded data removed]",
      "text/plain": [
       "<Figure size 432x288 with 1 Axes>"
      ]
     },
     "metadata": {
      "needs_background": "light"
     },
     "output_type": "display_data"
    }
   ],
   "source": [
    "import matplotlib.pyplot as plt\n",
    "\n",
    "plt.hist(np.sort(np.array(mat.sum(axis=0)).flatten()), bins=50, log=True)"
   ]
  },
  {
   "cell_type": "code",
   "execution_count": 62,
   "id": "7273d57d-be9e-4e0d-8c78-90a0c5dafcd3",
   "metadata": {},
   "outputs": [],
   "source": [
    "df[\"len\"] = df.comment_text.str.len()"
   ]
  },
  {
   "cell_type": "code",
   "execution_count": 63,
   "id": "ffdec4a4-3777-48f3-834e-976cf303b883",
   "metadata": {},
   "outputs": [],
   "source": [
    "import seaborn as sns"
   ]
  },
  {
   "cell_type": "code",
   "execution_count": 64,
   "id": "70f1d4af-28b2-48d4-b0d3-6010e729307f",
   "metadata": {},
   "outputs": [
    {
     "data": {
      "text/plain": [
       "<AxesSubplot:xlabel='len', ylabel='Count'>"
      ]
     },
     "execution_count": 64,
     "metadata": {},
     "output_type": "execute_result"
    },
    {
     "data": {
      "image/png": "[encoded data removed]",
      "text/plain": [
       "<Figure size 432x288 with 1 Axes>"
      ]
     },
     "metadata": {
      "needs_background": "light"
     },
     "output_type": "display_data"
    }
   ],
   "source": [
    "sns.histplot(df, x=\"len\", hue=\"conspiracy\")"
   ]
  },
  {
   "cell_type": "code",
   "execution_count": null,
   "id": "88542072-7a24-4bed-a200-7b9d2291555f",
   "metadata": {},
   "outputs": [],
   "source": []
  }
 ],
 "metadata": {
  "kernelspec": {
   "display_name": "Python 3 (ipykernel)",
   "language": "python",
   "name": "python3"
  },
  "language_info": {
   "codemirror_mode": {
    "name": "ipython",
    "version": 3
   },
   "file_extension": ".py",
   "mimetype": "text/x-python",
   "name": "python",
   "nbconvert_exporter": "python",
   "pygments_lexer": "ipython3",
   "version": "3.7.12"
  }
 },
 "nbformat": 4,
 "nbformat_minor": 5
}
